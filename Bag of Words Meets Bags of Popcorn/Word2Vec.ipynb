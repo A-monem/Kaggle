{
  "cells": [
    {
      "metadata": {
        "_uuid": "8f2839f25d086af736a60e9eeb907d3b93b6e0e5",
        "_cell_guid": "b1076dfc-b9ad-4769-8c92-a6c4dae69d19",
        "trusted": true
      },
      "cell_type": "code",
      "source": "import pandas as pd\nimport numpy as np\nfrom bs4 import BeautifulSoup\nimport re\nimport nltk\nfrom nltk.corpus import stopwords\nfrom nltk import sent_tokenize\nimport gensim\nfrom gensim.models import word2vec\nimport logging\nlogging.basicConfig(format='%(asctime)s : %(levelname)s : %(message)s',\\\n    level=logging.INFO)\nimport warnings\nwarnings.filterwarnings('ignore')",
      "execution_count": null,
      "outputs": []
    },
    {
      "metadata": {
        "_cell_guid": "79c7e3d0-c299-4dcb-8224-4455121ee9b0",
        "_uuid": "d629ff2d2480ee46fbb7e2d37f6b5fab8052498a",
        "trusted": true
      },
      "cell_type": "code",
      "source": "train = pd.read_csv(\"../input/labeledTrainData.tsv\", delimiter=\"\\t\", header=0)\ntest = pd.read_csv(\"../input/testData.tsv\", delimiter=\"\\t\", header=0)\nunlabeled_train = pd.read_csv(\"../input/unlabeledTrainData.tsv\", delimiter=\"\\t\", header=0, quoting=3)",
      "execution_count": null,
      "outputs": []
    },
    {
      "metadata": {
        "trusted": true,
        "_uuid": "e91f2bc898fb5c3055830324cf8cada89e3f869a"
      },
      "cell_type": "code",
      "source": "print('%d labeled train reviews\\n%d labeled test reviews \\\n\\n%d unlabeled reviews\\n' % (train[\"review\"].size,  \n test[\"review\"].size, unlabeled_train[\"review\"].size ))",
      "execution_count": null,
      "outputs": []
    },
    {
      "metadata": {
        "trusted": true,
        "_uuid": "d11ca414b5971a28508d6deb589717bba36c7ec1"
      },
      "cell_type": "code",
      "source": "def sent_to_words(sent):\n    sent_text = BeautifulSoup(sent).get_text() \n    letters_only = re.sub(\"[^a-zA-Z]\", \" \", sent_text) \n    words = letters_only.lower()\n    words= words.split()                             \n    stops = set(stopwords.words(\"english\"))                  \n    meaningful_words = [w for w in words if not w in stops]\n    return(meaningful_words)",
      "execution_count": null,
      "outputs": []
    },
    {
      "metadata": {
        "trusted": true,
        "_uuid": "c69f75186f2c436ea62802c4a8a3f94f027c8734"
      },
      "cell_type": "code",
      "source": "def review_to_sent(raw_review):\n    sent = []\n    for review in train['review']:\n        block_of_sent = sent_tokenize(review)\n        for block in block_of_sent:\n            if len(block) > 0:\n                sent.append(block)\n    return sent    ",
      "execution_count": null,
      "outputs": []
    },
    {
      "metadata": {
        "trusted": true,
        "_uuid": "f934e39ffc71557bc06e44003583ad6c97d9a458"
      },
      "cell_type": "code",
      "source": "sent_list = review_to_sent(train['review'])",
      "execution_count": null,
      "outputs": []
    },
    {
      "metadata": {
        "trusted": true,
        "_uuid": "0909d5b765cca15c63de5dee1d3fd77c39cabbc5"
      },
      "cell_type": "code",
      "source": "len(sent_list)",
      "execution_count": null,
      "outputs": []
    },
    {
      "metadata": {
        "trusted": true,
        "_uuid": "5b9afdaaa210665bff8fd85a723753feeee1bdb9"
      },
      "cell_type": "code",
      "source": "sent_list[0]",
      "execution_count": null,
      "outputs": []
    },
    {
      "metadata": {
        "trusted": true,
        "_uuid": "e27815c84c651e949a143825d9f44d9df4bae27d"
      },
      "cell_type": "code",
      "source": "word_list = []\nfor sent in sent_list:\n    word_list.append(sent_to_words(sent))",
      "execution_count": null,
      "outputs": []
    },
    {
      "metadata": {
        "trusted": true,
        "_uuid": "272398239276afee87983d0c60cb0b7bcb4a73db"
      },
      "cell_type": "code",
      "source": "len(word_list)",
      "execution_count": null,
      "outputs": []
    },
    {
      "metadata": {
        "trusted": true,
        "_uuid": "6c834bc90172ba4959a7da61c0f2e0739b3a7854"
      },
      "cell_type": "code",
      "source": "word_list[0]",
      "execution_count": null,
      "outputs": []
    },
    {
      "metadata": {
        "trusted": true,
        "_uuid": "b6746992f273e980122251197342031db0ddfd1a"
      },
      "cell_type": "code",
      "source": "num_feats = 300       # Word vector dimensionality                      \nmin_word_count = 40   # Minimum word count  'a word has to be repeated 40 time to be considered'                      \nnum_workers = 4       # Number of threads to run in parallel\ncontext = 10          # Context window size                                                                                    \ndownsampling = 1e-3   # Downsample setting for frequent words",
      "execution_count": null,
      "outputs": []
    },
    {
      "metadata": {
        "trusted": true,
        "_uuid": "815defba018dc2b139960b325e5ffa5c3759c65b"
      },
      "cell_type": "code",
      "source": "model = word2vec.Word2Vec(sentences=word_list, size=num_feats, window=context, min_count=min_word_count, sample=downsampling)",
      "execution_count": null,
      "outputs": []
    },
    {
      "metadata": {
        "trusted": true,
        "_uuid": "0a899d43aa459802316b36abb55d7c0adc9e0f8c"
      },
      "cell_type": "code",
      "source": "model.doesnt_match('man woman child kitchen'.split())",
      "execution_count": null,
      "outputs": []
    },
    {
      "metadata": {
        "trusted": true,
        "_uuid": "87805735431334ae1ccd223a0602b7c4cf902148"
      },
      "cell_type": "code",
      "source": "model.doesnt_match('banana apple grapes horse'.split())",
      "execution_count": null,
      "outputs": []
    },
    {
      "metadata": {
        "trusted": true,
        "_uuid": "f8c5a1158077b2134649bf21ff37f30e95baf018"
      },
      "cell_type": "code",
      "source": "model.doesnt_match('france england australia tree'.split())",
      "execution_count": null,
      "outputs": []
    },
    {
      "metadata": {
        "trusted": true,
        "_uuid": "3ba3f23747cc3779a66b6bee39aaad6ff2b1461b"
      },
      "cell_type": "code",
      "source": "model.doesnt_match(\"paris berlin london austria\".split())",
      "execution_count": null,
      "outputs": []
    },
    {
      "metadata": {
        "trusted": true,
        "_uuid": "95e84871dad6709f9b31d4d5b17f4399e9058894"
      },
      "cell_type": "code",
      "source": "model.most_similar('man')",
      "execution_count": null,
      "outputs": []
    },
    {
      "metadata": {
        "trusted": true,
        "_uuid": "513b08fbc133e8a63dfab032939b9d5d8333eb64"
      },
      "cell_type": "code",
      "source": "model.most_similar('good')",
      "execution_count": null,
      "outputs": []
    },
    {
      "metadata": {
        "trusted": true,
        "_uuid": "7bebb0cdd11312636ca45ede0df03fd644549cf2"
      },
      "cell_type": "code",
      "source": "model.most_similar('bad')",
      "execution_count": null,
      "outputs": []
    },
    {
      "metadata": {
        "trusted": true,
        "_uuid": "23a942543adfdf0b8e586c2db37cd9e85982f6ed"
      },
      "cell_type": "code",
      "source": "#create a vector representation for each sentence\ndef feat_vec(sent, model, num_feats):\n    feat_vec = np.zeros(shape=(num_feats,), dtype='float')\n    num_words = 0\n    word_set = set(model.wv.index2word)\n    for word in sent:\n        if word in word_set:\n            num_words += 1\n            feat_vec = np.add(feat_vec, model[word])\n    feat_vec = np.divide(feat_vec,num_words)\n    return feat_vec",
      "execution_count": null,
      "outputs": []
    },
    {
      "metadata": {
        "trusted": true,
        "_uuid": "b5dd1e71687b6d56a4096eb9bef0307d49cd0092"
      },
      "cell_type": "code",
      "source": "#create a vector representation for each review \ndef get_avg_feat_vec(reviews, model , num_feats):\n    review_feat_vec = np.zeros(shape=(len(reviews), num_feats), dtype='float')\n    for i, review in enumerate(reviews):\n        words = sent_to_words(review)\n        review_feat_vec[i-1] = feat_vec(words, model, num_feats)   \n    return review_feat_vec    ",
      "execution_count": null,
      "outputs": []
    },
    {
      "metadata": {
        "trusted": true,
        "_uuid": "c75f294fd527892d9942afb1a9e8abd452122682"
      },
      "cell_type": "code",
      "source": "train_vecs = get_avg_feat_vec(train['review'], model, num_feats)",
      "execution_count": null,
      "outputs": []
    },
    {
      "metadata": {
        "trusted": true,
        "_uuid": "2c3d0946dd7e913096c8eb31aa15710d7ce9a4db"
      },
      "cell_type": "code",
      "source": "test_vec = get_avg_feat_vec(test['review'], model, num_feats)",
      "execution_count": null,
      "outputs": []
    },
    {
      "metadata": {
        "trusted": true,
        "_uuid": "9b3c3f000f12f96efca866c14700bde00bbd6ebb"
      },
      "cell_type": "code",
      "source": "from sklearn.cluster import KMeans\nimport time",
      "execution_count": null,
      "outputs": []
    },
    {
      "metadata": {
        "trusted": true,
        "_uuid": "e0326f20431a7caeb28233856b8d618d7a4efcb5"
      },
      "cell_type": "code",
      "source": "start = time.time()\n\nword_vectors = model.wv.syn0  #returns a vector representation of all words (index2word returns the words)\nnum_clusters = int(word_vectors.shape[0] / 5) #number of clusters\nKmeans_clusters = KMeans(n_clusters = num_clusters) \nidx = Kmeans_clusters.fit_predict(word_vectors)\n\nend = time.time()\nelapsed = end - start\n\nprint('time elapsed is ', elapsed, 'seconds')",
      "execution_count": null,
      "outputs": []
    },
    {
      "metadata": {
        "trusted": true,
        "_uuid": "d4cc1698e01254ee01b90365b87e7b23a956b366"
      },
      "cell_type": "code",
      "source": "word_centroid_map = dict(zip(model.wv.index2word, idx))",
      "execution_count": null,
      "outputs": []
    },
    {
      "metadata": {
        "trusted": true,
        "_uuid": "6702d8f6d281806ca4ef0b1a51a8336b76134cb1"
      },
      "cell_type": "code",
      "source": "for cluster in range(0,5):\n    print(\"\\nCluster %d\" % cluster)\n    words = []\n    for key , value in word_centroid_map.items():\n        if (value == cluster):\n            words.append(key)\n    print(words)",
      "execution_count": null,
      "outputs": []
    },
    {
      "metadata": {
        "trusted": true,
        "_uuid": "84b14e6ef927dce27fc42b201c985952ba22fe42"
      },
      "cell_type": "code",
      "source": "def create_bag_of_centroids(word_list, word_centroid_map):\n    \n    num_centroids = max( word_centroid_map.values() ) + 1\n    bag_of_centroids = np.zeros( num_centroids, dtype=\"float32\" )\n    \n    for word in word_list:\n        if word in word_centroid_map:\n            index = word_centroid_map[word]\n            bag_of_centroids[index] +=1\n            \n    return bag_of_centroids        ",
      "execution_count": null,
      "outputs": []
    },
    {
      "metadata": {
        "trusted": true,
        "_uuid": "c34db7ef11e2c98256c3b653f28d218cd04409d9"
      },
      "cell_type": "code",
      "source": "def create_reviews_bag_of_centroids(reviews, word_centroid_map):\n    \n    num_centroids = max( word_centroid_map.values() ) + 1\n    \n    reviews_bag_of_centroids = np.zeros(shape=(len(reviews), num_centroids))\n    \n    for i, review in enumerate(reviews):\n        reviews_bag_of_centroids[i-1] = create_bag_of_centroids(review.split(), word_centroid_map)\n    \n    return reviews_bag_of_centroids     ",
      "execution_count": null,
      "outputs": []
    },
    {
      "metadata": {
        "trusted": true,
        "_uuid": "b3e30563f74ebb8079f4c919c0dc7844a8bb1571"
      },
      "cell_type": "code",
      "source": "train_bag_of_centroids = create_reviews_bag_of_centroids(train['review'], word_centroid_map)",
      "execution_count": null,
      "outputs": []
    },
    {
      "metadata": {
        "trusted": true,
        "_uuid": "69f2ec2a31fd99990c706c828915e40296aa4888"
      },
      "cell_type": "code",
      "source": "test_bag_of_centroids = create_reviews_bag_of_centroids(test['review'], word_centroid_map)",
      "execution_count": null,
      "outputs": []
    },
    {
      "metadata": {
        "trusted": true,
        "_uuid": "357c7c7c15c8607cc303e9c99fd2ae9e3a459121"
      },
      "cell_type": "code",
      "source": "print(train_bag_of_centroids.shape)\nprint(test_bag_of_centroids.shape)",
      "execution_count": null,
      "outputs": []
    },
    {
      "metadata": {
        "trusted": true,
        "_uuid": "f4aa1ab23c14e7422c50b3d20637b5663ff08b49"
      },
      "cell_type": "code",
      "source": "import gc\ngc.collect()",
      "execution_count": null,
      "outputs": []
    },
    {
      "metadata": {
        "trusted": true,
        "_uuid": "5c7d909c8834bbad49d88fec1f42a7989ae659b1"
      },
      "cell_type": "code",
      "source": "from sklearn.ensemble import RandomForestClassifier\nforest = RandomForestClassifier(n_estimators = 100)\nforest = forest.fit(train_bag_of_centroids,train[\"sentiment\"])\npredictions = forest.predict(test_bag_of_centroids)",
      "execution_count": null,
      "outputs": []
    },
    {
      "metadata": {
        "trusted": true,
        "_uuid": "76c32455218694fe355cb25b37a8eee51e5a0a2a"
      },
      "cell_type": "code",
      "source": "output = pd.DataFrame( data={\"id\":test[\"id\"], \"sentiment\":predictions} )\noutput.to_csv( \"Submission.csv\", index=False)",
      "execution_count": null,
      "outputs": []
    }
  ],
  "metadata": {
    "kernelspec": {
      "display_name": "Python 3",
      "language": "python",
      "name": "python3"
    },
    "language_info": {
      "name": "python",
      "version": "3.6.6",
      "mimetype": "text/x-python",
      "codemirror_mode": {
        "name": "ipython",
        "version": 3
      },
      "pygments_lexer": "ipython3",
      "nbconvert_exporter": "python",
      "file_extension": ".py"
    }
  },
  "nbformat": 4,
  "nbformat_minor": 1
}